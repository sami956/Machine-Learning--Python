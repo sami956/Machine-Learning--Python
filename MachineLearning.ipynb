{
 "cells": [
  {
   "cell_type": "markdown",
   "metadata": {},
   "source": [
    "# Machine Learning\n",
    "\n",
    "- Fundamental Vocabulary and Concepts\n",
    "- Introduce Scikit-Learn API\n",
    "- Deep dive into the details of important ML Algorithms and develop and intuition onto how \n",
    "  they work and where they are applicable"
   ]
  },
  {
   "cell_type": "markdown",
   "metadata": {},
   "source": [
    "- Process by which a machine learns by itself without being explicitly programmed\n",
    "  - Normal: Input + Program = Output\n",
    "  - ML:\n",
    "    - Step1: Input and Output\n",
    "    - Step2: New Input - Output"
   ]
  },
  {
   "cell_type": "markdown",
   "metadata": {},
   "source": [
    "- ML involves building mathematical models to help understand data.\n",
    "  - 'Learning' happens when we give these models **tunable** parameters that can be adapted to observed \n",
    "     data. In this way the program can be considered to be 'learning' from the data\n",
    "     \n",
    "  - Once these models have been fit to the previously seen data, they can be used to predict and understand\n",
    "    aspects of newly obseved data\n",
    "    \n",
    "    "
   ]
  },
  {
   "cell_type": "markdown",
   "metadata": {},
   "source": [
    "## Categories of Machine Learning:\n",
    "\n",
    "- **Supervised Learning:** It involves modeling a relationship between measured features of data and some label \n",
    "  associated with the data, once this model is developed,it can be used to apply labels to new, unknown data.\n",
    "  \n",
    "  - Classification - Labels are discrete categories\n",
    "  \n",
    "  - Regression - Labels are continuous quantities\n",
    "  \n",
    "  \n",
    "- **Unsupervised Learning** -: It involves modeling the features of a dataset without reference to any label.\n",
    "   Often called 'letting the dataset speak for itself'. Find the underlying structure of the data.\n",
    "   \n",
    "   - Clustering - Identify distinct groups of data\n",
    "   \n",
    "   - Dimensionality reduction - Condensed representations of data ( Reducing 1000-dimensional data to two-three dimensions)\n",
    "   \n",
    "   \n",
    "- **Semi-Supervised Learning** : It lies between Supervised and Unsupervised. Often useful when only incomplete labels are avaiable"
   ]
  },
  {
   "cell_type": "markdown",
   "metadata": {},
   "source": [
    "## Introducing Scikit-Learn:\n",
    "\n"
   ]
  },
  {
   "cell_type": "code",
   "execution_count": 6,
   "metadata": {},
   "outputs": [
    {
     "data": {
      "text/html": [
       "<div>\n",
       "<style scoped>\n",
       "    .dataframe tbody tr th:only-of-type {\n",
       "        vertical-align: middle;\n",
       "    }\n",
       "\n",
       "    .dataframe tbody tr th {\n",
       "        vertical-align: top;\n",
       "    }\n",
       "\n",
       "    .dataframe thead th {\n",
       "        text-align: right;\n",
       "    }\n",
       "</style>\n",
       "<table border=\"1\" class=\"dataframe\">\n",
       "  <thead>\n",
       "    <tr style=\"text-align: right;\">\n",
       "      <th></th>\n",
       "      <th>sepal_length</th>\n",
       "      <th>sepal_width</th>\n",
       "      <th>petal_length</th>\n",
       "      <th>petal_width</th>\n",
       "      <th>species</th>\n",
       "    </tr>\n",
       "  </thead>\n",
       "  <tbody>\n",
       "    <tr>\n",
       "      <td>0</td>\n",
       "      <td>5.1</td>\n",
       "      <td>3.5</td>\n",
       "      <td>1.4</td>\n",
       "      <td>0.2</td>\n",
       "      <td>setosa</td>\n",
       "    </tr>\n",
       "    <tr>\n",
       "      <td>1</td>\n",
       "      <td>4.9</td>\n",
       "      <td>3.0</td>\n",
       "      <td>1.4</td>\n",
       "      <td>0.2</td>\n",
       "      <td>setosa</td>\n",
       "    </tr>\n",
       "    <tr>\n",
       "      <td>2</td>\n",
       "      <td>4.7</td>\n",
       "      <td>3.2</td>\n",
       "      <td>1.3</td>\n",
       "      <td>0.2</td>\n",
       "      <td>setosa</td>\n",
       "    </tr>\n",
       "    <tr>\n",
       "      <td>3</td>\n",
       "      <td>4.6</td>\n",
       "      <td>3.1</td>\n",
       "      <td>1.5</td>\n",
       "      <td>0.2</td>\n",
       "      <td>setosa</td>\n",
       "    </tr>\n",
       "    <tr>\n",
       "      <td>4</td>\n",
       "      <td>5.0</td>\n",
       "      <td>3.6</td>\n",
       "      <td>1.4</td>\n",
       "      <td>0.2</td>\n",
       "      <td>setosa</td>\n",
       "    </tr>\n",
       "  </tbody>\n",
       "</table>\n",
       "</div>"
      ],
      "text/plain": [
       "   sepal_length  sepal_width  petal_length  petal_width species\n",
       "0           5.1          3.5           1.4          0.2  setosa\n",
       "1           4.9          3.0           1.4          0.2  setosa\n",
       "2           4.7          3.2           1.3          0.2  setosa\n",
       "3           4.6          3.1           1.5          0.2  setosa\n",
       "4           5.0          3.6           1.4          0.2  setosa"
      ]
     },
     "execution_count": 6,
     "metadata": {},
     "output_type": "execute_result"
    }
   ],
   "source": [
    "## Data Representation in Scikit-Learn\n",
    "# Data as table\n",
    "\n",
    "import seaborn as sns\n",
    "\n",
    "iris = sns.load_dataset('iris')\n",
    "iris.head()"
   ]
  },
  {
   "cell_type": "code",
   "execution_count": 4,
   "metadata": {},
   "outputs": [
    {
     "data": {
      "text/plain": [
       "(150, 5)"
      ]
     },
     "execution_count": 4,
     "metadata": {},
     "output_type": "execute_result"
    }
   ],
   "source": [
    "iris.shape"
   ]
  },
  {
   "cell_type": "markdown",
   "metadata": {},
   "source": [
    "- Here each row of the data is a single observed flower, the number of rows is the total number of flowers in the dataset. In general, we refer to the rows of matrix as samples, the number of rows as **n_samples**"
   ]
  },
  {
   "cell_type": "markdown",
   "metadata": {},
   "source": [
    "- Here, each column of the data refers to a particular quantitative piece of information that describes each sample\n",
    "  In general we refer the columns of matrix as features, and the number of columns as **n_features**"
   ]
  },
  {
   "cell_type": "markdown",
   "metadata": {},
   "source": [
    "## Features Matrix:\n",
    "\n",
    "- Normally, by convention the features matrix is stored in a variable named 'X'. \n",
    "  It is assumed to be a 2-dimensional matrix with shape (n_samples, n_features)\n",
    "\n",
    "  - Either a NumPy array or Pandas DataFrame\n",
    "\n",
    "  - Samples- Rows refer to individual objects (flower, person, document, image, sound, video, etc.)\n",
    "\n",
    "  - Features- (Columns) Refer to the distinct observations that describe each sample in a quantitative manner.\n",
    "     ( Real-Values, Boolean, Discrete Values)"
   ]
  },
  {
   "cell_type": "markdown",
   "metadata": {},
   "source": [
    "## Target Array:\n",
    "\n",
    "- In addition to the features matrix, we also generally work with a label or target array, by convention it is \n",
    "  denoted by 'y'.\n",
    "  \n",
    "- It is usually a one-dimensional array, with n_samples(NumPy array, Pandas Series)\n",
    "\n",
    "- Either a categorical variable(discrete classes/labels) or a continuous numerical variable/values\n",
    "\n",
    "\n",
    "- Target array is the quantity/label that we want to predict from the data, in statistical terms, it is the dependent variable\n",
    "\n",
    "\n",
    "- y = mx + c (m: slope, c : y intercept)\n",
    "  "
   ]
  },
  {
   "cell_type": "code",
   "execution_count": null,
   "metadata": {},
   "outputs": [],
   "source": []
  }
 ],
 "metadata": {
  "kernelspec": {
   "display_name": "Python 3",
   "language": "python",
   "name": "python3"
  },
  "language_info": {
   "codemirror_mode": {
    "name": "ipython",
    "version": 3
   },
   "file_extension": ".py",
   "mimetype": "text/x-python",
   "name": "python",
   "nbconvert_exporter": "python",
   "pygments_lexer": "ipython3",
   "version": "3.7.4"
  }
 },
 "nbformat": 4,
 "nbformat_minor": 2
}
